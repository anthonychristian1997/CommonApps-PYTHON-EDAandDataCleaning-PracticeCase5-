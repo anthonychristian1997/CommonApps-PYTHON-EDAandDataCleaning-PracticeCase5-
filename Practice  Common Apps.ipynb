{
 "cells": [
  {
   "cell_type": "code",
   "execution_count": 1,
   "metadata": {},
   "outputs": [],
   "source": [
    "import pandas as pd\n",
    "import matplotlib.pyplot as plt\n",
    "import seaborn as sns"
   ]
  },
  {
   "cell_type": "code",
   "execution_count": 2,
   "metadata": {},
   "outputs": [],
   "source": [
    "file = \"C:/Users/Anthony Christian/Desktop/Common Apps/common_apps.csv\"\n",
    "df = pd.read_csv(file, index_col=\"App_Order\")\n"
   ]
  },
  {
   "cell_type": "code",
   "execution_count": 3,
   "metadata": {},
   "outputs": [],
   "source": [
    "#DATA INSPECTION"
   ]
  },
  {
   "cell_type": "code",
   "execution_count": 4,
   "metadata": {},
   "outputs": [
    {
     "data": {
      "text/html": [
       "<div>\n",
       "<style scoped>\n",
       "    .dataframe tbody tr th:only-of-type {\n",
       "        vertical-align: middle;\n",
       "    }\n",
       "\n",
       "    .dataframe tbody tr th {\n",
       "        vertical-align: top;\n",
       "    }\n",
       "\n",
       "    .dataframe thead th {\n",
       "        text-align: right;\n",
       "    }\n",
       "</style>\n",
       "<table border=\"1\" class=\"dataframe\">\n",
       "  <thead>\n",
       "    <tr style=\"text-align: right;\">\n",
       "      <th></th>\n",
       "      <th>App_Name</th>\n",
       "      <th>App_Star</th>\n",
       "      <th>App_Price</th>\n",
       "      <th>App_Review</th>\n",
       "    </tr>\n",
       "    <tr>\n",
       "      <th>App_Order</th>\n",
       "      <th></th>\n",
       "      <th></th>\n",
       "      <th></th>\n",
       "      <th></th>\n",
       "    </tr>\n",
       "  </thead>\n",
       "  <tbody>\n",
       "    <tr>\n",
       "      <th>0</th>\n",
       "      <td>iTunes</td>\n",
       "      <td>3.0</td>\n",
       "      <td>Free</td>\n",
       "      <td>30874.0</td>\n",
       "    </tr>\n",
       "    <tr>\n",
       "      <th>1</th>\n",
       "      <td>Netflix</td>\n",
       "      <td>4.0</td>\n",
       "      <td>Free</td>\n",
       "      <td>671575.0</td>\n",
       "    </tr>\n",
       "    <tr>\n",
       "      <th>2</th>\n",
       "      <td>Spotify Music</td>\n",
       "      <td>4.0</td>\n",
       "      <td>Free</td>\n",
       "      <td>31093.0</td>\n",
       "    </tr>\n",
       "    <tr>\n",
       "      <th>3</th>\n",
       "      <td>Microsoft Sticky Notes</td>\n",
       "      <td>4.5</td>\n",
       "      <td>Free</td>\n",
       "      <td>90236.0</td>\n",
       "    </tr>\n",
       "    <tr>\n",
       "      <th>4</th>\n",
       "      <td>Facebook</td>\n",
       "      <td>3.5</td>\n",
       "      <td>Free</td>\n",
       "      <td>481943.0</td>\n",
       "    </tr>\n",
       "  </tbody>\n",
       "</table>\n",
       "</div>"
      ],
      "text/plain": [
       "                         App_Name  App_Star App_Price  App_Review\n",
       "App_Order                                                        \n",
       "0                          iTunes       3.0      Free     30874.0\n",
       "1                         Netflix       4.0      Free    671575.0\n",
       "2                   Spotify Music       4.0      Free     31093.0\n",
       "3          Microsoft Sticky Notes       4.5      Free     90236.0\n",
       "4                        Facebook       3.5      Free    481943.0"
      ]
     },
     "execution_count": 4,
     "metadata": {},
     "output_type": "execute_result"
    }
   ],
   "source": [
    "df.head()"
   ]
  },
  {
   "cell_type": "code",
   "execution_count": 5,
   "metadata": {},
   "outputs": [
    {
     "data": {
      "text/plain": [
       "(997, 4)"
      ]
     },
     "execution_count": 5,
     "metadata": {},
     "output_type": "execute_result"
    }
   ],
   "source": [
    "df.shape"
   ]
  },
  {
   "cell_type": "code",
   "execution_count": 6,
   "metadata": {},
   "outputs": [
    {
     "data": {
      "text/html": [
       "<div>\n",
       "<style scoped>\n",
       "    .dataframe tbody tr th:only-of-type {\n",
       "        vertical-align: middle;\n",
       "    }\n",
       "\n",
       "    .dataframe tbody tr th {\n",
       "        vertical-align: top;\n",
       "    }\n",
       "\n",
       "    .dataframe thead th {\n",
       "        text-align: right;\n",
       "    }\n",
       "</style>\n",
       "<table border=\"1\" class=\"dataframe\">\n",
       "  <thead>\n",
       "    <tr style=\"text-align: right;\">\n",
       "      <th></th>\n",
       "      <th>App_Star</th>\n",
       "      <th>App_Review</th>\n",
       "    </tr>\n",
       "  </thead>\n",
       "  <tbody>\n",
       "    <tr>\n",
       "      <th>count</th>\n",
       "      <td>972.000000</td>\n",
       "      <td>972.000000</td>\n",
       "    </tr>\n",
       "    <tr>\n",
       "      <th>mean</th>\n",
       "      <td>3.819959</td>\n",
       "      <td>12146.978395</td>\n",
       "    </tr>\n",
       "    <tr>\n",
       "      <th>std</th>\n",
       "      <td>0.815651</td>\n",
       "      <td>44772.828384</td>\n",
       "    </tr>\n",
       "    <tr>\n",
       "      <th>min</th>\n",
       "      <td>1.000000</td>\n",
       "      <td>1.000000</td>\n",
       "    </tr>\n",
       "    <tr>\n",
       "      <th>25%</th>\n",
       "      <td>3.500000</td>\n",
       "      <td>123.000000</td>\n",
       "    </tr>\n",
       "    <tr>\n",
       "      <th>50%</th>\n",
       "      <td>4.000000</td>\n",
       "      <td>781.000000</td>\n",
       "    </tr>\n",
       "    <tr>\n",
       "      <th>75%</th>\n",
       "      <td>4.500000</td>\n",
       "      <td>5290.000000</td>\n",
       "    </tr>\n",
       "    <tr>\n",
       "      <th>max</th>\n",
       "      <td>5.000000</td>\n",
       "      <td>671575.000000</td>\n",
       "    </tr>\n",
       "  </tbody>\n",
       "</table>\n",
       "</div>"
      ],
      "text/plain": [
       "         App_Star     App_Review\n",
       "count  972.000000     972.000000\n",
       "mean     3.819959   12146.978395\n",
       "std      0.815651   44772.828384\n",
       "min      1.000000       1.000000\n",
       "25%      3.500000     123.000000\n",
       "50%      4.000000     781.000000\n",
       "75%      4.500000    5290.000000\n",
       "max      5.000000  671575.000000"
      ]
     },
     "execution_count": 6,
     "metadata": {},
     "output_type": "execute_result"
    }
   ],
   "source": [
    "df.describe()"
   ]
  },
  {
   "cell_type": "code",
   "execution_count": 7,
   "metadata": {},
   "outputs": [
    {
     "data": {
      "text/plain": [
       "App_Name       object\n",
       "App_Star      float64\n",
       "App_Price      object\n",
       "App_Review    float64\n",
       "dtype: object"
      ]
     },
     "execution_count": 7,
     "metadata": {},
     "output_type": "execute_result"
    }
   ],
   "source": [
    "df.dtypes"
   ]
  },
  {
   "cell_type": "code",
   "execution_count": 8,
   "metadata": {},
   "outputs": [
    {
     "data": {
      "text/plain": [
       "App_Name       0\n",
       "App_Star      25\n",
       "App_Price      0\n",
       "App_Review    25\n",
       "dtype: int64"
      ]
     },
     "execution_count": 8,
     "metadata": {},
     "output_type": "execute_result"
    }
   ],
   "source": [
    "df.isnull().sum()"
   ]
  },
  {
   "cell_type": "code",
   "execution_count": 9,
   "metadata": {},
   "outputs": [
    {
     "data": {
      "text/html": [
       "<div>\n",
       "<style scoped>\n",
       "    .dataframe tbody tr th:only-of-type {\n",
       "        vertical-align: middle;\n",
       "    }\n",
       "\n",
       "    .dataframe tbody tr th {\n",
       "        vertical-align: top;\n",
       "    }\n",
       "\n",
       "    .dataframe thead th {\n",
       "        text-align: right;\n",
       "    }\n",
       "</style>\n",
       "<table border=\"1\" class=\"dataframe\">\n",
       "  <thead>\n",
       "    <tr style=\"text-align: right;\">\n",
       "      <th></th>\n",
       "      <th>App_Name</th>\n",
       "      <th>App_Star</th>\n",
       "      <th>App_Price</th>\n",
       "      <th>App_Review</th>\n",
       "    </tr>\n",
       "    <tr>\n",
       "      <th>App_Order</th>\n",
       "      <th></th>\n",
       "      <th></th>\n",
       "      <th></th>\n",
       "      <th></th>\n",
       "    </tr>\n",
       "  </thead>\n",
       "  <tbody>\n",
       "    <tr>\n",
       "      <th>445</th>\n",
       "      <td>Random Color Generator</td>\n",
       "      <td>NaN</td>\n",
       "      <td>Free</td>\n",
       "      <td>NaN</td>\n",
       "    </tr>\n",
       "    <tr>\n",
       "      <th>527</th>\n",
       "      <td>Practica Musica</td>\n",
       "      <td>NaN</td>\n",
       "      <td>Free</td>\n",
       "      <td>NaN</td>\n",
       "    </tr>\n",
       "    <tr>\n",
       "      <th>586</th>\n",
       "      <td>Adobe Flash Player-Pro GUIDE</td>\n",
       "      <td>NaN</td>\n",
       "      <td>Free</td>\n",
       "      <td>NaN</td>\n",
       "    </tr>\n",
       "    <tr>\n",
       "      <th>596</th>\n",
       "      <td>Google Chrome App Guide</td>\n",
       "      <td>NaN</td>\n",
       "      <td>Free</td>\n",
       "      <td>NaN</td>\n",
       "    </tr>\n",
       "    <tr>\n",
       "      <th>686</th>\n",
       "      <td>Cricut Explore Air 2 Guides</td>\n",
       "      <td>NaN</td>\n",
       "      <td>$5.29</td>\n",
       "      <td>NaN</td>\n",
       "    </tr>\n",
       "    <tr>\n",
       "      <th>689</th>\n",
       "      <td>Publisher Expert 2</td>\n",
       "      <td>NaN</td>\n",
       "      <td>$5.29</td>\n",
       "      <td>NaN</td>\n",
       "    </tr>\n",
       "    <tr>\n",
       "      <th>695</th>\n",
       "      <td>DrawPad Professional</td>\n",
       "      <td>NaN</td>\n",
       "      <td>$5.29</td>\n",
       "      <td>NaN</td>\n",
       "    </tr>\n",
       "    <tr>\n",
       "      <th>738</th>\n",
       "      <td>eLation Reach</td>\n",
       "      <td>NaN</td>\n",
       "      <td>Free</td>\n",
       "      <td>NaN</td>\n",
       "    </tr>\n",
       "    <tr>\n",
       "      <th>747</th>\n",
       "      <td>CyberLink PowerDirector 18 Ultimate - Microsof...</td>\n",
       "      <td>NaN</td>\n",
       "      <td>Free</td>\n",
       "      <td>NaN</td>\n",
       "    </tr>\n",
       "    <tr>\n",
       "      <th>766</th>\n",
       "      <td>Cricut Explore Air Projects</td>\n",
       "      <td>NaN</td>\n",
       "      <td>Free</td>\n",
       "      <td>NaN</td>\n",
       "    </tr>\n",
       "    <tr>\n",
       "      <th>779</th>\n",
       "      <td>Hostme - Miller's Ale House</td>\n",
       "      <td>NaN</td>\n",
       "      <td>Free</td>\n",
       "      <td>NaN</td>\n",
       "    </tr>\n",
       "    <tr>\n",
       "      <th>783</th>\n",
       "      <td>Moneyspire 2020 Standard</td>\n",
       "      <td>NaN</td>\n",
       "      <td>Free</td>\n",
       "      <td>NaN</td>\n",
       "    </tr>\n",
       "    <tr>\n",
       "      <th>786</th>\n",
       "      <td>Baa Accounting 9</td>\n",
       "      <td>NaN</td>\n",
       "      <td>Free</td>\n",
       "      <td>NaN</td>\n",
       "    </tr>\n",
       "    <tr>\n",
       "      <th>789</th>\n",
       "      <td>Mozilla Firefox_User:Guide</td>\n",
       "      <td>NaN</td>\n",
       "      <td>Free</td>\n",
       "      <td>NaN</td>\n",
       "    </tr>\n",
       "    <tr>\n",
       "      <th>846</th>\n",
       "      <td>aText</td>\n",
       "      <td>NaN</td>\n",
       "      <td>Free</td>\n",
       "      <td>NaN</td>\n",
       "    </tr>\n",
       "    <tr>\n",
       "      <th>847</th>\n",
       "      <td>ActionDirector 3</td>\n",
       "      <td>NaN</td>\n",
       "      <td>Free</td>\n",
       "      <td>NaN</td>\n",
       "    </tr>\n",
       "    <tr>\n",
       "      <th>855</th>\n",
       "      <td>Nero Video</td>\n",
       "      <td>NaN</td>\n",
       "      <td>Free</td>\n",
       "      <td>NaN</td>\n",
       "    </tr>\n",
       "    <tr>\n",
       "      <th>871</th>\n",
       "      <td>uniDEM</td>\n",
       "      <td>NaN</td>\n",
       "      <td>Free</td>\n",
       "      <td>NaN</td>\n",
       "    </tr>\n",
       "    <tr>\n",
       "      <th>915</th>\n",
       "      <td>Templates for Google Sheets</td>\n",
       "      <td>NaN</td>\n",
       "      <td>Free</td>\n",
       "      <td>NaN</td>\n",
       "    </tr>\n",
       "    <tr>\n",
       "      <th>924</th>\n",
       "      <td>Silhouette Studio For Beginners</td>\n",
       "      <td>NaN</td>\n",
       "      <td>Free</td>\n",
       "      <td>NaN</td>\n",
       "    </tr>\n",
       "    <tr>\n",
       "      <th>929</th>\n",
       "      <td>Cricut Explore Air For Beginners</td>\n",
       "      <td>NaN</td>\n",
       "      <td>Free</td>\n",
       "      <td>NaN</td>\n",
       "    </tr>\n",
       "    <tr>\n",
       "      <th>961</th>\n",
       "      <td>Orbose Retail</td>\n",
       "      <td>NaN</td>\n",
       "      <td>Free</td>\n",
       "      <td>NaN</td>\n",
       "    </tr>\n",
       "    <tr>\n",
       "      <th>963</th>\n",
       "      <td>PUB Viewer Pro - Publisher Viewer &amp;amp; Converter</td>\n",
       "      <td>NaN</td>\n",
       "      <td>Free</td>\n",
       "      <td>NaN</td>\n",
       "    </tr>\n",
       "    <tr>\n",
       "      <th>989</th>\n",
       "      <td>PDF Reader for Adobe PDF</td>\n",
       "      <td>NaN</td>\n",
       "      <td>Free</td>\n",
       "      <td>NaN</td>\n",
       "    </tr>\n",
       "    <tr>\n",
       "      <th>995</th>\n",
       "      <td>TowMagic</td>\n",
       "      <td>NaN</td>\n",
       "      <td>Free</td>\n",
       "      <td>NaN</td>\n",
       "    </tr>\n",
       "  </tbody>\n",
       "</table>\n",
       "</div>"
      ],
      "text/plain": [
       "                                                    App_Name  App_Star  \\\n",
       "App_Order                                                                \n",
       "445                                   Random Color Generator       NaN   \n",
       "527                                          Practica Musica       NaN   \n",
       "586                             Adobe Flash Player-Pro GUIDE       NaN   \n",
       "596                                  Google Chrome App Guide       NaN   \n",
       "686                              Cricut Explore Air 2 Guides       NaN   \n",
       "689                                       Publisher Expert 2       NaN   \n",
       "695                                     DrawPad Professional       NaN   \n",
       "738                                            eLation Reach       NaN   \n",
       "747        CyberLink PowerDirector 18 Ultimate - Microsof...       NaN   \n",
       "766                              Cricut Explore Air Projects       NaN   \n",
       "779                              Hostme - Miller's Ale House       NaN   \n",
       "783                                 Moneyspire 2020 Standard       NaN   \n",
       "786                                         Baa Accounting 9       NaN   \n",
       "789                               Mozilla Firefox_User:Guide       NaN   \n",
       "846                                                    aText       NaN   \n",
       "847                                         ActionDirector 3       NaN   \n",
       "855                                               Nero Video       NaN   \n",
       "871                                                   uniDEM       NaN   \n",
       "915                              Templates for Google Sheets       NaN   \n",
       "924                          Silhouette Studio For Beginners       NaN   \n",
       "929                         Cricut Explore Air For Beginners       NaN   \n",
       "961                                            Orbose Retail       NaN   \n",
       "963        PUB Viewer Pro - Publisher Viewer &amp; Converter       NaN   \n",
       "989                                 PDF Reader for Adobe PDF       NaN   \n",
       "995                                                 TowMagic       NaN   \n",
       "\n",
       "          App_Price  App_Review  \n",
       "App_Order                        \n",
       "445            Free         NaN  \n",
       "527            Free         NaN  \n",
       "586            Free         NaN  \n",
       "596            Free         NaN  \n",
       "686          $5.29          NaN  \n",
       "689          $5.29          NaN  \n",
       "695          $5.29          NaN  \n",
       "738            Free         NaN  \n",
       "747            Free         NaN  \n",
       "766            Free         NaN  \n",
       "779            Free         NaN  \n",
       "783            Free         NaN  \n",
       "786            Free         NaN  \n",
       "789            Free         NaN  \n",
       "846            Free         NaN  \n",
       "847            Free         NaN  \n",
       "855            Free         NaN  \n",
       "871            Free         NaN  \n",
       "915            Free         NaN  \n",
       "924            Free         NaN  \n",
       "929            Free         NaN  \n",
       "961            Free         NaN  \n",
       "963            Free         NaN  \n",
       "989            Free         NaN  \n",
       "995            Free         NaN  "
      ]
     },
     "execution_count": 9,
     "metadata": {},
     "output_type": "execute_result"
    }
   ],
   "source": [
    "df.loc[df[\"App_Star\"].isnull()]"
   ]
  },
  {
   "cell_type": "code",
   "execution_count": 10,
   "metadata": {},
   "outputs": [
    {
     "data": {
      "text/plain": [
       "(90, 4)"
      ]
     },
     "execution_count": 10,
     "metadata": {},
     "output_type": "execute_result"
    }
   ],
   "source": [
    "df.loc[df.duplicated()].shape"
   ]
  },
  {
   "cell_type": "code",
   "execution_count": 11,
   "metadata": {},
   "outputs": [],
   "source": [
    "#DATA CLEANING"
   ]
  },
  {
   "cell_type": "code",
   "execution_count": 12,
   "metadata": {},
   "outputs": [],
   "source": [
    "df = df.rename(columns={\"App_Name\":\"Nama\",\"App_Star\":\"Bintang\",\"App_Price\":\"Harga\",\"App_Review\":\"Ulasan\"})"
   ]
  },
  {
   "cell_type": "code",
   "execution_count": 13,
   "metadata": {},
   "outputs": [],
   "source": [
    "df = df.dropna().drop_duplicates(subset=\"Nama\")"
   ]
  },
  {
   "cell_type": "code",
   "execution_count": 14,
   "metadata": {},
   "outputs": [],
   "source": [
    "df[\"Harga\"] = df[\"Harga\"].replace(\"Free\", \"0\")"
   ]
  },
  {
   "cell_type": "code",
   "execution_count": 15,
   "metadata": {},
   "outputs": [],
   "source": [
    "df[\"Harga\"] = df[\"Harga\"].str.lstrip(\"$\")"
   ]
  },
  {
   "cell_type": "code",
   "execution_count": 16,
   "metadata": {},
   "outputs": [],
   "source": [
    "df[\"Harga\"] = pd.to_numeric(df[\"Harga\"])"
   ]
  },
  {
   "cell_type": "code",
   "execution_count": 17,
   "metadata": {},
   "outputs": [],
   "source": [
    "df[\"Ulasan\"] = df[\"Ulasan\"].astype(int)"
   ]
  },
  {
   "cell_type": "code",
   "execution_count": 18,
   "metadata": {},
   "outputs": [],
   "source": [
    "df = df.set_index(\"Nama\")"
   ]
  },
  {
   "cell_type": "code",
   "execution_count": 19,
   "metadata": {},
   "outputs": [
    {
     "data": {
      "text/html": [
       "<div>\n",
       "<style scoped>\n",
       "    .dataframe tbody tr th:only-of-type {\n",
       "        vertical-align: middle;\n",
       "    }\n",
       "\n",
       "    .dataframe tbody tr th {\n",
       "        vertical-align: top;\n",
       "    }\n",
       "\n",
       "    .dataframe thead th {\n",
       "        text-align: right;\n",
       "    }\n",
       "</style>\n",
       "<table border=\"1\" class=\"dataframe\">\n",
       "  <thead>\n",
       "    <tr style=\"text-align: right;\">\n",
       "      <th></th>\n",
       "      <th>Bintang</th>\n",
       "      <th>Harga</th>\n",
       "      <th>Ulasan</th>\n",
       "    </tr>\n",
       "    <tr>\n",
       "      <th>Nama</th>\n",
       "      <th></th>\n",
       "      <th></th>\n",
       "      <th></th>\n",
       "    </tr>\n",
       "  </thead>\n",
       "  <tbody>\n",
       "    <tr>\n",
       "      <th>iTunes</th>\n",
       "      <td>3.0</td>\n",
       "      <td>0.0</td>\n",
       "      <td>30874</td>\n",
       "    </tr>\n",
       "    <tr>\n",
       "      <th>Netflix</th>\n",
       "      <td>4.0</td>\n",
       "      <td>0.0</td>\n",
       "      <td>671575</td>\n",
       "    </tr>\n",
       "    <tr>\n",
       "      <th>Spotify Music</th>\n",
       "      <td>4.0</td>\n",
       "      <td>0.0</td>\n",
       "      <td>31093</td>\n",
       "    </tr>\n",
       "    <tr>\n",
       "      <th>Microsoft Sticky Notes</th>\n",
       "      <td>4.5</td>\n",
       "      <td>0.0</td>\n",
       "      <td>90236</td>\n",
       "    </tr>\n",
       "    <tr>\n",
       "      <th>Facebook</th>\n",
       "      <td>3.5</td>\n",
       "      <td>0.0</td>\n",
       "      <td>481943</td>\n",
       "    </tr>\n",
       "    <tr>\n",
       "      <th>Instagram</th>\n",
       "      <td>3.0</td>\n",
       "      <td>0.0</td>\n",
       "      <td>99515</td>\n",
       "    </tr>\n",
       "    <tr>\n",
       "      <th>Hulu</th>\n",
       "      <td>3.0</td>\n",
       "      <td>0.0</td>\n",
       "      <td>28884</td>\n",
       "    </tr>\n",
       "    <tr>\n",
       "      <th>Messenger</th>\n",
       "      <td>3.0</td>\n",
       "      <td>0.0</td>\n",
       "      <td>291542</td>\n",
       "    </tr>\n",
       "    <tr>\n",
       "      <th>Your Phone</th>\n",
       "      <td>4.0</td>\n",
       "      <td>0.0</td>\n",
       "      <td>57147</td>\n",
       "    </tr>\n",
       "    <tr>\n",
       "      <th>OneNote</th>\n",
       "      <td>4.5</td>\n",
       "      <td>0.0</td>\n",
       "      <td>325916</td>\n",
       "    </tr>\n",
       "  </tbody>\n",
       "</table>\n",
       "</div>"
      ],
      "text/plain": [
       "                        Bintang  Harga  Ulasan\n",
       "Nama                                          \n",
       "iTunes                      3.0    0.0   30874\n",
       "Netflix                     4.0    0.0  671575\n",
       "Spotify Music               4.0    0.0   31093\n",
       "Microsoft Sticky Notes      4.5    0.0   90236\n",
       "Facebook                    3.5    0.0  481943\n",
       "Instagram                   3.0    0.0   99515\n",
       "Hulu                        3.0    0.0   28884\n",
       "Messenger                   3.0    0.0  291542\n",
       "Your Phone                  4.0    0.0   57147\n",
       "OneNote                     4.5    0.0  325916"
      ]
     },
     "execution_count": 19,
     "metadata": {},
     "output_type": "execute_result"
    }
   ],
   "source": [
    "df.head(10)"
   ]
  },
  {
   "cell_type": "code",
   "execution_count": 20,
   "metadata": {},
   "outputs": [
    {
     "data": {
      "text/html": [
       "<div>\n",
       "<style scoped>\n",
       "    .dataframe tbody tr th:only-of-type {\n",
       "        vertical-align: middle;\n",
       "    }\n",
       "\n",
       "    .dataframe tbody tr th {\n",
       "        vertical-align: top;\n",
       "    }\n",
       "\n",
       "    .dataframe thead th {\n",
       "        text-align: right;\n",
       "    }\n",
       "</style>\n",
       "<table border=\"1\" class=\"dataframe\">\n",
       "  <thead>\n",
       "    <tr style=\"text-align: right;\">\n",
       "      <th></th>\n",
       "      <th>Bintang</th>\n",
       "      <th>Harga</th>\n",
       "      <th>Ulasan</th>\n",
       "    </tr>\n",
       "  </thead>\n",
       "  <tbody>\n",
       "    <tr>\n",
       "      <th>count</th>\n",
       "      <td>881.000000</td>\n",
       "      <td>881.000000</td>\n",
       "      <td>881.000000</td>\n",
       "    </tr>\n",
       "    <tr>\n",
       "      <th>mean</th>\n",
       "      <td>3.810443</td>\n",
       "      <td>0.522395</td>\n",
       "      <td>11497.175936</td>\n",
       "    </tr>\n",
       "    <tr>\n",
       "      <th>std</th>\n",
       "      <td>0.829049</td>\n",
       "      <td>1.579051</td>\n",
       "      <td>44162.600672</td>\n",
       "    </tr>\n",
       "    <tr>\n",
       "      <th>min</th>\n",
       "      <td>1.000000</td>\n",
       "      <td>0.000000</td>\n",
       "      <td>1.000000</td>\n",
       "    </tr>\n",
       "    <tr>\n",
       "      <th>25%</th>\n",
       "      <td>3.500000</td>\n",
       "      <td>0.000000</td>\n",
       "      <td>102.000000</td>\n",
       "    </tr>\n",
       "    <tr>\n",
       "      <th>50%</th>\n",
       "      <td>4.000000</td>\n",
       "      <td>0.000000</td>\n",
       "      <td>693.000000</td>\n",
       "    </tr>\n",
       "    <tr>\n",
       "      <th>75%</th>\n",
       "      <td>4.500000</td>\n",
       "      <td>0.000000</td>\n",
       "      <td>4426.000000</td>\n",
       "    </tr>\n",
       "    <tr>\n",
       "      <th>max</th>\n",
       "      <td>5.000000</td>\n",
       "      <td>5.290000</td>\n",
       "      <td>671575.000000</td>\n",
       "    </tr>\n",
       "  </tbody>\n",
       "</table>\n",
       "</div>"
      ],
      "text/plain": [
       "          Bintang       Harga         Ulasan\n",
       "count  881.000000  881.000000     881.000000\n",
       "mean     3.810443    0.522395   11497.175936\n",
       "std      0.829049    1.579051   44162.600672\n",
       "min      1.000000    0.000000       1.000000\n",
       "25%      3.500000    0.000000     102.000000\n",
       "50%      4.000000    0.000000     693.000000\n",
       "75%      4.500000    0.000000    4426.000000\n",
       "max      5.000000    5.290000  671575.000000"
      ]
     },
     "execution_count": 20,
     "metadata": {},
     "output_type": "execute_result"
    }
   ],
   "source": [
    "df.describe() #Sudah berubah"
   ]
  },
  {
   "cell_type": "code",
   "execution_count": 21,
   "metadata": {},
   "outputs": [
    {
     "data": {
      "text/plain": [
       "Bintang    float64\n",
       "Harga      float64\n",
       "Ulasan       int32\n",
       "dtype: object"
      ]
     },
     "execution_count": 21,
     "metadata": {},
     "output_type": "execute_result"
    }
   ],
   "source": [
    "df.dtypes"
   ]
  },
  {
   "cell_type": "code",
   "execution_count": 22,
   "metadata": {},
   "outputs": [
    {
     "data": {
      "text/plain": [
       "Bintang    0\n",
       "Harga      0\n",
       "Ulasan     0\n",
       "dtype: int64"
      ]
     },
     "execution_count": 22,
     "metadata": {},
     "output_type": "execute_result"
    }
   ],
   "source": [
    "df.isnull().sum()"
   ]
  },
  {
   "cell_type": "code",
   "execution_count": 23,
   "metadata": {},
   "outputs": [],
   "source": [
    "#Exploratory Data Analysis\n",
    "#Top 10 most viewed apps"
   ]
  },
  {
   "cell_type": "code",
   "execution_count": 24,
   "metadata": {},
   "outputs": [
    {
     "name": "stdout",
     "output_type": "stream",
     "text": [
      "                                     Bintang  Harga  Ulasan\n",
      "Nama                                                       \n",
      "Netflix                                  4.0    0.0  671575\n",
      "Facebook                                 3.5    0.0  481943\n",
      "Phototastic Collage                      4.5    0.0  411556\n",
      "LINE                                     3.5    0.0  339031\n",
      "OneNote                                  4.5    0.0  325916\n",
      "Paint 3D                                 4.5    0.0  313103\n",
      "Messenger                                3.0    0.0  291542\n",
      "Duolingo - Learn Languages for Free      4.5    0.0  289946\n",
      "Translator                               4.0    0.0  220199\n",
      "Twitter                                  3.5    0.0  211995\n"
     ]
    }
   ],
   "source": [
    "top_10_apps = df.sort_values(by=\"Ulasan\", ascending=False).head(10)\n",
    "print(top_10_apps)"
   ]
  },
  {
   "cell_type": "code",
   "execution_count": 25,
   "metadata": {},
   "outputs": [
    {
     "data": {
      "text/plain": [
       "Text(0, 0.5, 'ULASAN IN THOUSAND')"
      ]
     },
     "execution_count": 25,
     "metadata": {},
     "output_type": "execute_result"
    },
    {
     "data": {
      "image/png": "[encoded data removed]",
      "text/plain": [
       "<Figure size 720x432 with 1 Axes>"
      ]
     },
     "metadata": {
      "needs_background": "light"
     },
     "output_type": "display_data"
    }
   ],
   "source": [
    "plt.figure(figsize=(10,6))\n",
    "sns.barplot(x=top_10_apps.index, y=top_10_apps[\"Ulasan\"]/1000)\n",
    "plt.title(\"TOP 10 APPLICATION\", fontsize=16)\n",
    "plt.xlabel(\"APPLICATION NAME\", fontsize=14)\n",
    "plt.xticks(rotation=75)\n",
    "plt.ylabel(\"ULASAN IN THOUSAND\")"
   ]
  },
  {
   "cell_type": "code",
   "execution_count": 26,
   "metadata": {},
   "outputs": [
    {
     "name": "stdout",
     "output_type": "stream",
     "text": [
      "                                                    Bintang  Harga  Ulasan\n",
      "Nama                                                                      \n",
      "OMEN Command Center                                     5.0   0.00   17860\n",
      "Cartoons Unlimited Pro                                  5.0   5.29   17812\n",
      "PDF X                                                   5.0   0.00   15876\n",
      "Pinterest                                               5.0   0.00    8467\n",
      "Logo Maker - Logo Creator, Generator &amp; Desi...      5.0   0.00    5272\n",
      "Free Movies # HD                                        5.0   0.00    2863\n",
      "AdBlocker Ultimate                                      5.0   0.00    2605\n",
      "Ultimate Photo Editor                                   5.0   0.00    2060\n",
      "Poster Maker, Flyer Designer, Ads Page Designer         5.0   0.00    1963\n",
      "Duplicates Cleaner Prime                                5.0   5.29    1845\n"
     ]
    }
   ],
   "source": [
    "#Top 10 most often viewed 5.0 Star apps\n",
    "top_10_mostview = df.sort_values(by=[\"Bintang\",\"Ulasan\"], ascending=False).head(10)\n",
    "print(top_10_mostview)"
   ]
  },
  {
   "cell_type": "code",
   "execution_count": 27,
   "metadata": {},
   "outputs": [
    {
     "data": {
      "text/plain": [
       "Text(0, 0.5, 'ULASAN IN THOUSAND')"
      ]
     },
     "execution_count": 27,
     "metadata": {},
     "output_type": "execute_result"
    },
    {
     "data": {
      "image/png": "[encoded data removed]",
      "text/plain": [
       "<Figure size 720x432 with 1 Axes>"
      ]
     },
     "metadata": {
      "needs_background": "light"
     },
     "output_type": "display_data"
    }
   ],
   "source": [
    "plt.figure(figsize=(10,6))\n",
    "sns.barplot(x=top_10_mostview.index, y=top_10_mostview[\"Ulasan\"]/1000)\n",
    "plt.title(\"TOP 10 *5 STARS* APPLICATION\", fontsize=16)\n",
    "plt.xlabel(\"APPLICATION NAME\", fontsize=12)\n",
    "plt.xticks(rotation=75)\n",
    "plt.ylabel(\"ULASAN IN THOUSAND\", fontsize=\"14\")"
   ]
  },
  {
   "cell_type": "code",
   "execution_count": 28,
   "metadata": {},
   "outputs": [
    {
     "name": "stdout",
     "output_type": "stream",
     "text": [
      "                                                    Bintang  Harga  Ulasan\n",
      "Nama                                                                      \n",
      "Pages Manager for Facebook                              3.5   5.29   61093\n",
      "Cartoons Unlimited Pro                                  5.0   5.29   17812\n",
      "Nextgen Reader                                          4.5   5.29   16986\n",
      "8 Zip Pro - advanced archiver for Zip, Rar, 7Zi...      4.5   5.29   16890\n",
      "Video Maker - VideoShow                                 4.0   5.29   16755\n",
      "Fotor                                                   4.0   5.29   16204\n",
      "Spending Tracker ™                                      4.5   5.29   14189\n",
      "Text Reader                                             4.0   5.29    6879\n",
      "Sketch Board                                            4.0   5.29    6333\n",
      "Online Radio - Free Live FM AM                          4.5   5.29    6014\n"
     ]
    }
   ],
   "source": [
    "#Top 10 most often viewed non_fee_apps:\n",
    "top_10_nonfree = df.sort_values(by=[\"Harga\",\"Ulasan\"], ascending=False).head(10)\n",
    "print(top_10_nonfree)"
   ]
  },
  {
   "cell_type": "code",
   "execution_count": 29,
   "metadata": {},
   "outputs": [
    {
     "data": {
      "text/plain": [
       "Text(0, 0.5, 'ULASAN IN THOUSAND')"
      ]
     },
     "execution_count": 29,
     "metadata": {},
     "output_type": "execute_result"
    },
    {
     "data": {
      "image/png": "[encoded data removed]",
      "text/plain": [
       "<Figure size 720x432 with 1 Axes>"
      ]
     },
     "metadata": {
      "needs_background": "light"
     },
     "output_type": "display_data"
    }
   ],
   "source": [
    "plt.figure(figsize=(10,6))\n",
    "sns.barplot(x=top_10_nonfree.index,y=top_10_nonfree[\"Ulasan\"]/1000)\n",
    "plt.title(\"TOP 10 PAY APPLICATION\")\n",
    "plt.xlabel(\"APPLICATION NAME\", fontsize=16)\n",
    "plt.xticks(rotation=90)\n",
    "plt.ylabel(\"ULASAN IN THOUSAND\")"
   ]
  },
  {
   "cell_type": "code",
   "execution_count": 30,
   "metadata": {},
   "outputs": [
    {
     "name": "stdout",
     "output_type": "stream",
     "text": [
      "4.0    254\n",
      "4.5    247\n",
      "3.5    152\n",
      "3.0     85\n",
      "5.0     53\n",
      "2.5     39\n",
      "2.0     23\n",
      "1.0     16\n",
      "1.5     12\n",
      "Name: Bintang, dtype: int64\n"
     ]
    }
   ],
   "source": [
    "#Star rating distribution\n",
    "star_rating = df[\"Bintang\"].value_counts()\n",
    "print(star_rating)"
   ]
  },
  {
   "cell_type": "code",
   "execution_count": 31,
   "metadata": {},
   "outputs": [
    {
     "data": {
      "text/plain": [
       "Text(0, 0.5, 'TOTAL STAR')"
      ]
     },
     "execution_count": 31,
     "metadata": {},
     "output_type": "execute_result"
    },
    {
     "data": {
      "image/png": "[encoded data removed]",
      "text/plain": [
       "<Figure size 720x432 with 1 Axes>"
      ]
     },
     "metadata": {
      "needs_background": "light"
     },
     "output_type": "display_data"
    }
   ],
   "source": [
    "plt.figure(figsize=(10,6))\n",
    "sns.barplot(x=star_rating.index,y=star_rating.values)\n",
    "plt.title(\"STAR DISTRIBUTION\", fontsize=16)\n",
    "plt.xlabel(\"STAR\", fontsize=12)\n",
    "plt.ylabel(\"TOTAL STAR\", fontsize=10)"
   ]
  },
  {
   "cell_type": "code",
   "execution_count": 32,
   "metadata": {},
   "outputs": [],
   "source": [
    "#Differences between free and non free apps:\n",
    "free_apps = df[df[\"Harga\"] == 0]\n",
    "non_free_apps = df[df[\"Harga\"] > 0]"
   ]
  },
  {
   "cell_type": "code",
   "execution_count": 33,
   "metadata": {},
   "outputs": [
    {
     "data": {
      "text/plain": [
       "Text(0, 0.5, 'STAR')"
      ]
     },
     "execution_count": 33,
     "metadata": {},
     "output_type": "execute_result"
    },
    {
     "data": {
      "image/png": "[encoded data removed]",
      "text/plain": [
       "<Figure size 720x432 with 1 Axes>"
      ]
     },
     "metadata": {
      "needs_background": "light"
     },
     "output_type": "display_data"
    }
   ],
   "source": [
    "plt.figure(figsize=(10,6))\n",
    "sns.barplot(x=free_apps[\"Bintang\"].value_counts().index, y=free_apps[\"Bintang\"].value_counts().values, palette=\"Blues\")\n",
    "plt.title(\"FREE APPS STAR\", fontsize=16)\n",
    "plt.xlabel(\"APPLICATION\", fontsize=12)\n",
    "plt.ylabel(\"STAR\", fontsize=12)"
   ]
  },
  {
   "cell_type": "code",
   "execution_count": 34,
   "metadata": {},
   "outputs": [
    {
     "data": {
      "text/plain": [
       "Text(0, 0.5, 'STAR')"
      ]
     },
     "execution_count": 34,
     "metadata": {},
     "output_type": "execute_result"
    },
    {
     "data": {
      "image/png": "[encoded data removed]",
      "text/plain": [
       "<Figure size 720x432 with 1 Axes>"
      ]
     },
     "metadata": {
      "needs_background": "light"
     },
     "output_type": "display_data"
    }
   ],
   "source": [
    "plt.figure(figsize=(10,6))\n",
    "sns.barplot(x=non_free_apps[\"Bintang\"].value_counts().index, y=non_free_apps[\"Bintang\"].value_counts().values, palette=\"Blues\")\n",
    "plt.title(\"NON FREE APPS STAR\", fontsize=16)\n",
    "plt.xlabel(\"APPLICATION\", fontsize=12)\n",
    "plt.ylabel(\"STAR\", fontsize=12)"
   ]
  },
  {
   "cell_type": "code",
   "execution_count": 35,
   "metadata": {},
   "outputs": [
    {
     "data": {
      "text/html": [
       "<div>\n",
       "<style scoped>\n",
       "    .dataframe tbody tr th:only-of-type {\n",
       "        vertical-align: middle;\n",
       "    }\n",
       "\n",
       "    .dataframe tbody tr th {\n",
       "        vertical-align: top;\n",
       "    }\n",
       "\n",
       "    .dataframe thead th {\n",
       "        text-align: right;\n",
       "    }\n",
       "</style>\n",
       "<table border=\"1\" class=\"dataframe\">\n",
       "  <thead>\n",
       "    <tr style=\"text-align: right;\">\n",
       "      <th></th>\n",
       "      <th>Bintang</th>\n",
       "      <th>Harga</th>\n",
       "      <th>Ulasan</th>\n",
       "    </tr>\n",
       "  </thead>\n",
       "  <tbody>\n",
       "    <tr>\n",
       "      <th>count</th>\n",
       "      <td>794.000000</td>\n",
       "      <td>794.0</td>\n",
       "      <td>794.000000</td>\n",
       "    </tr>\n",
       "    <tr>\n",
       "      <th>mean</th>\n",
       "      <td>3.807935</td>\n",
       "      <td>0.0</td>\n",
       "      <td>12459.289673</td>\n",
       "    </tr>\n",
       "    <tr>\n",
       "      <th>std</th>\n",
       "      <td>0.828983</td>\n",
       "      <td>0.0</td>\n",
       "      <td>46353.314245</td>\n",
       "    </tr>\n",
       "    <tr>\n",
       "      <th>min</th>\n",
       "      <td>1.000000</td>\n",
       "      <td>0.0</td>\n",
       "      <td>1.000000</td>\n",
       "    </tr>\n",
       "    <tr>\n",
       "      <th>25%</th>\n",
       "      <td>3.500000</td>\n",
       "      <td>0.0</td>\n",
       "      <td>109.500000</td>\n",
       "    </tr>\n",
       "    <tr>\n",
       "      <th>50%</th>\n",
       "      <td>4.000000</td>\n",
       "      <td>0.0</td>\n",
       "      <td>747.000000</td>\n",
       "    </tr>\n",
       "    <tr>\n",
       "      <th>75%</th>\n",
       "      <td>4.500000</td>\n",
       "      <td>0.0</td>\n",
       "      <td>5132.750000</td>\n",
       "    </tr>\n",
       "    <tr>\n",
       "      <th>max</th>\n",
       "      <td>5.000000</td>\n",
       "      <td>0.0</td>\n",
       "      <td>671575.000000</td>\n",
       "    </tr>\n",
       "  </tbody>\n",
       "</table>\n",
       "</div>"
      ],
      "text/plain": [
       "          Bintang  Harga         Ulasan\n",
       "count  794.000000  794.0     794.000000\n",
       "mean     3.807935    0.0   12459.289673\n",
       "std      0.828983    0.0   46353.314245\n",
       "min      1.000000    0.0       1.000000\n",
       "25%      3.500000    0.0     109.500000\n",
       "50%      4.000000    0.0     747.000000\n",
       "75%      4.500000    0.0    5132.750000\n",
       "max      5.000000    0.0  671575.000000"
      ]
     },
     "execution_count": 35,
     "metadata": {},
     "output_type": "execute_result"
    }
   ],
   "source": [
    "free_apps.describe()"
   ]
  },
  {
   "cell_type": "code",
   "execution_count": 36,
   "metadata": {},
   "outputs": [
    {
     "data": {
      "text/html": [
       "<div>\n",
       "<style scoped>\n",
       "    .dataframe tbody tr th:only-of-type {\n",
       "        vertical-align: middle;\n",
       "    }\n",
       "\n",
       "    .dataframe tbody tr th {\n",
       "        vertical-align: top;\n",
       "    }\n",
       "\n",
       "    .dataframe thead th {\n",
       "        text-align: right;\n",
       "    }\n",
       "</style>\n",
       "<table border=\"1\" class=\"dataframe\">\n",
       "  <thead>\n",
       "    <tr style=\"text-align: right;\">\n",
       "      <th></th>\n",
       "      <th>Bintang</th>\n",
       "      <th>Harga</th>\n",
       "      <th>Ulasan</th>\n",
       "    </tr>\n",
       "  </thead>\n",
       "  <tbody>\n",
       "    <tr>\n",
       "      <th>count</th>\n",
       "      <td>87.000000</td>\n",
       "      <td>8.700000e+01</td>\n",
       "      <td>87.000000</td>\n",
       "    </tr>\n",
       "    <tr>\n",
       "      <th>mean</th>\n",
       "      <td>3.833333</td>\n",
       "      <td>5.290000e+00</td>\n",
       "      <td>2716.505747</td>\n",
       "    </tr>\n",
       "    <tr>\n",
       "      <th>std</th>\n",
       "      <td>0.834108</td>\n",
       "      <td>7.146619e-15</td>\n",
       "      <td>7616.526051</td>\n",
       "    </tr>\n",
       "    <tr>\n",
       "      <th>min</th>\n",
       "      <td>1.000000</td>\n",
       "      <td>5.290000e+00</td>\n",
       "      <td>1.000000</td>\n",
       "    </tr>\n",
       "    <tr>\n",
       "      <th>25%</th>\n",
       "      <td>3.500000</td>\n",
       "      <td>5.290000e+00</td>\n",
       "      <td>62.000000</td>\n",
       "    </tr>\n",
       "    <tr>\n",
       "      <th>50%</th>\n",
       "      <td>4.000000</td>\n",
       "      <td>5.290000e+00</td>\n",
       "      <td>264.000000</td>\n",
       "    </tr>\n",
       "    <tr>\n",
       "      <th>75%</th>\n",
       "      <td>4.500000</td>\n",
       "      <td>5.290000e+00</td>\n",
       "      <td>1583.500000</td>\n",
       "    </tr>\n",
       "    <tr>\n",
       "      <th>max</th>\n",
       "      <td>5.000000</td>\n",
       "      <td>5.290000e+00</td>\n",
       "      <td>61093.000000</td>\n",
       "    </tr>\n",
       "  </tbody>\n",
       "</table>\n",
       "</div>"
      ],
      "text/plain": [
       "         Bintang         Harga        Ulasan\n",
       "count  87.000000  8.700000e+01     87.000000\n",
       "mean    3.833333  5.290000e+00   2716.505747\n",
       "std     0.834108  7.146619e-15   7616.526051\n",
       "min     1.000000  5.290000e+00      1.000000\n",
       "25%     3.500000  5.290000e+00     62.000000\n",
       "50%     4.000000  5.290000e+00    264.000000\n",
       "75%     4.500000  5.290000e+00   1583.500000\n",
       "max     5.000000  5.290000e+00  61093.000000"
      ]
     },
     "execution_count": 36,
     "metadata": {},
     "output_type": "execute_result"
    }
   ],
   "source": [
    "non_free_apps.describe()"
   ]
  },
  {
   "cell_type": "code",
   "execution_count": 37,
   "metadata": {},
   "outputs": [
    {
     "data": {
      "text/plain": [
       "9892676"
      ]
     },
     "execution_count": 37,
     "metadata": {},
     "output_type": "execute_result"
    }
   ],
   "source": [
    "free_apps[\"Ulasan\"].sum()"
   ]
  },
  {
   "cell_type": "code",
   "execution_count": 38,
   "metadata": {},
   "outputs": [
    {
     "data": {
      "text/plain": [
       "236336"
      ]
     },
     "execution_count": 38,
     "metadata": {},
     "output_type": "execute_result"
    }
   ],
   "source": [
    "non_free_apps[\"Ulasan\"].sum()"
   ]
  },
  {
   "cell_type": "code",
   "execution_count": 39,
   "metadata": {},
   "outputs": [],
   "source": [
    "#Correlation between stars and views"
   ]
  },
  {
   "cell_type": "code",
   "execution_count": 40,
   "metadata": {},
   "outputs": [
    {
     "data": {
      "text/plain": [
       "<matplotlib.axes._subplots.AxesSubplot at 0x1dc4ec8d488>"
      ]
     },
     "execution_count": 40,
     "metadata": {},
     "output_type": "execute_result"
    },
    {
     "data": {
      "image/png": "[encoded data removed]",
      "text/plain": [
       "<Figure size 720x432 with 1 Axes>"
      ]
     },
     "metadata": {
      "needs_background": "light"
     },
     "output_type": "display_data"
    }
   ],
   "source": [
    "plt.figure(figsize=(10,6))\n",
    "sns.regplot(x=df[\"Bintang\"], y=df[\"Ulasan\"])"
   ]
  },
  {
   "cell_type": "code",
   "execution_count": 41,
   "metadata": {},
   "outputs": [
    {
     "data": {
      "text/plain": [
       "(0, 50000)"
      ]
     },
     "execution_count": 41,
     "metadata": {},
     "output_type": "execute_result"
    },
    {
     "data": {
      "image/png": "[encoded data removed]",
      "text/plain": [
       "<Figure size 720x432 with 1 Axes>"
      ]
     },
     "metadata": {
      "needs_background": "light"
     },
     "output_type": "display_data"
    }
   ],
   "source": [
    "plt.figure(figsize=(10,6))\n",
    "sns.regplot(x=df[\"Bintang\"], y=df[\"Ulasan\"])\n",
    "plt.gca().set_ylim(0, 50000)"
   ]
  },
  {
   "cell_type": "code",
   "execution_count": 42,
   "metadata": {},
   "outputs": [
    {
     "data": {
      "text/plain": [
       "(0, 50000)"
      ]
     },
     "execution_count": 42,
     "metadata": {},
     "output_type": "execute_result"
    },
    {
     "data": {
      "image/png": "[encoded data removed]",
      "text/plain": [
       "<Figure size 418.375x360 with 1 Axes>"
      ]
     },
     "metadata": {
      "needs_background": "light"
     },
     "output_type": "display_data"
    }
   ],
   "source": [
    "sns.lmplot(x=\"Bintang\", y=\"Ulasan\", hue=\"Harga\", data=df)\n",
    "plt.gca().set_ylim(0, 50000)"
   ]
  },
  {
   "cell_type": "code",
   "execution_count": null,
   "metadata": {},
   "outputs": [],
   "source": []
  }
 ],
 "metadata": {
  "kernelspec": {
   "display_name": "Python 3",
   "language": "python",
   "name": "python3"
  },
  "language_info": {
   "codemirror_mode": {
    "name": "ipython",
    "version": 3
   },
   "file_extension": ".py",
   "mimetype": "text/x-python",
   "name": "python",
   "nbconvert_exporter": "python",
   "pygments_lexer": "ipython3",
   "version": "3.7.6"
  }
 },
 "nbformat": 4,
 "nbformat_minor": 4
}
